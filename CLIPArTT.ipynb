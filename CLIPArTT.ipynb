{
 "cells": [
  {
   "cell_type": "code",
   "execution_count": 1,
   "id": "f5933fe1",
   "metadata": {},
   "outputs": [],
   "source": [
    "import torch\n",
    "import tqdm\n",
    "import wandb"
   ]
  },
  {
   "cell_type": "code",
   "execution_count": 2,
   "id": "4a08a3ee",
   "metadata": {},
   "outputs": [],
   "source": [
    "from src.models.CLIPArTT import NewCLIP, configure_model, Tent, clipartt_eval\n",
    "from src.training.trainer import training_step, get_cost_function, get_optimizer\n",
    "from src.data.dataset import get_data, base_novel_categories, split_dataset, CLASS_NAMES"
   ]
  },
  {
   "cell_type": "code",
   "execution_count": 3,
   "id": "b45e20bb",
   "metadata": {},
   "outputs": [],
   "source": [
    "device = \"cuda:0\" if torch.cuda.is_available() else \"cpu\"\n",
    "\n",
    "tmp_model = NewCLIP().to(device)"
   ]
  },
  {
   "cell_type": "code",
   "execution_count": 4,
   "id": "1922d443",
   "metadata": {},
   "outputs": [],
   "source": [
    "\n",
    "tmp_model.clip.visual = configure_model(tmp_model.clip.visual)\n",
    "#optimizer = get_optimizer(tmp_model.clip.visual, learning_rate=learning_rate, weight_decay=weight_decay, momentum=momentum)\n",
    "\n",
    "#model = Tent(model=tmp_model, optimizer=optimizer, steps=steps, episodic=True)\n",
    "\n",
    "#get datasets\n",
    "train_set, val_set, test_set = get_data(transform = tmp_model.preprocess)\n",
    "base_classes, novel_classes = base_novel_categories(train_set)\n",
    "train_base, train_novel = split_dataset(train_set, base_classes)\n",
    "val_base, _ = split_dataset(val_set, base_classes)\n",
    "test_base, test_novel = split_dataset(test_set, base_classes)\n",
    "\n",
    "#clipartt_eval(model, val_base, base_classes, batch_size=16, device=device)"
   ]
  },
  {
   "cell_type": "code",
   "execution_count": 6,
   "id": "53265052",
   "metadata": {},
   "outputs": [
    {
     "name": "stderr",
     "output_type": "stream",
     "text": [
      "100%|██████████| 32/32 [00:20<00:00,  1.59it/s]\n",
      "  0%|          | 0/32 [00:00<?, ?it/s]\n",
      "100%|██████████| 32/32 [00:31<00:00,  1.01it/s]\n",
      "  0%|          | 0/32 [00:00<?, ?it/s]\n",
      "100%|██████████| 32/32 [01:08<00:00,  2.14s/it]\n",
      "  0%|          | 0/32 [00:00<?, ?it/s]\n",
      "100%|██████████| 32/32 [00:25<00:00,  1.27it/s]\n",
      "  0%|          | 0/32 [00:00<?, ?it/s]\n",
      "100%|██████████| 32/32 [00:40<00:00,  1.26s/it]\n",
      "  0%|          | 0/32 [00:00<?, ?it/s]\n",
      "100%|██████████| 32/32 [01:26<00:00,  2.69s/it]\n",
      "  0%|          | 0/32 [00:00<?, ?it/s]\n",
      "100%|██████████| 32/32 [00:28<00:00,  1.12it/s]\n",
      "  0%|          | 0/32 [00:00<?, ?it/s]\n",
      "100%|██████████| 32/32 [00:46<00:00,  1.45s/it]\n",
      "  0%|          | 0/32 [00:00<?, ?it/s]\n",
      "100%|██████████| 32/32 [01:32<00:00,  2.90s/it]\n",
      "  0%|          | 0/32 [00:00<?, ?it/s]\n",
      "100%|██████████| 32/32 [00:29<00:00,  1.10it/s]\n",
      "  0%|          | 0/32 [00:00<?, ?it/s]\n",
      "100%|██████████| 32/32 [00:44<00:00,  1.40s/it]\n",
      "  0%|          | 0/32 [00:00<?, ?it/s]\n",
      "100%|██████████| 32/32 [01:30<00:00,  2.84s/it]\n",
      "  0%|          | 0/32 [00:00<?, ?it/s]\n",
      "100%|██████████| 32/32 [00:27<00:00,  1.16it/s]\n",
      "  0%|          | 0/32 [00:00<?, ?it/s]\n",
      "100%|██████████| 32/32 [00:49<00:00,  1.55s/it]\n",
      "  0%|          | 0/32 [00:00<?, ?it/s]\n",
      "100%|██████████| 32/32 [01:31<00:00,  2.87s/it]\n",
      "  0%|          | 0/32 [00:00<?, ?it/s]\n",
      "100%|██████████| 32/32 [00:29<00:00,  1.09it/s]\n",
      "  0%|          | 0/32 [00:00<?, ?it/s]\n",
      "100%|██████████| 32/32 [00:49<00:00,  1.56s/it]\n",
      "  0%|          | 0/32 [00:00<?, ?it/s]\n",
      "100%|██████████| 32/32 [01:34<00:00,  2.94s/it]\n",
      "  0%|          | 0/32 [00:00<?, ?it/s]\n",
      "100%|██████████| 32/32 [00:30<00:00,  1.05it/s]\n",
      "  0%|          | 0/32 [00:00<?, ?it/s]\n",
      "100%|██████████| 32/32 [00:49<00:00,  1.55s/it]\n",
      "  0%|          | 0/32 [00:00<?, ?it/s]\n",
      "100%|██████████| 32/32 [01:37<00:00,  3.06s/it]\n",
      "  0%|          | 0/32 [00:00<?, ?it/s]\n",
      "100%|██████████| 32/32 [00:31<00:00,  1.02it/s]\n",
      "  0%|          | 0/32 [00:00<?, ?it/s]\n",
      "100%|██████████| 32/32 [00:48<00:00,  1.51s/it]\n",
      "  0%|          | 0/32 [00:00<?, ?it/s]\n",
      "100%|██████████| 32/32 [01:37<00:00,  3.06s/it]\n",
      "  0%|          | 0/32 [00:00<?, ?it/s]\n",
      "100%|██████████| 32/32 [00:31<00:00,  1.01it/s]\n",
      "  0%|          | 0/32 [00:00<?, ?it/s]\n",
      "100%|██████████| 32/32 [00:50<00:00,  1.59s/it]\n",
      "  0%|          | 0/32 [00:00<?, ?it/s]\n",
      "100%|██████████| 32/32 [01:32<00:00,  2.90s/it]\n",
      "  0%|          | 0/32 [00:00<?, ?it/s]\n",
      "100%|██████████| 32/32 [00:31<00:00,  1.01it/s]\n",
      "  0%|          | 0/32 [00:00<?, ?it/s]\n",
      "100%|██████████| 32/32 [00:49<00:00,  1.56s/it]\n",
      "  0%|          | 0/32 [00:00<?, ?it/s]\n",
      "100%|██████████| 32/32 [01:38<00:00,  3.09s/it]\n",
      "  0%|          | 0/32 [00:00<?, ?it/s]\n",
      "100%|██████████| 32/32 [00:32<00:00,  1.01s/it]\n",
      "  0%|          | 0/32 [00:00<?, ?it/s]\n",
      "100%|██████████| 32/32 [00:46<00:00,  1.47s/it]\n",
      "  0%|          | 0/32 [00:00<?, ?it/s]\n",
      "100%|██████████| 32/32 [01:33<00:00,  2.91s/it]\n",
      "  0%|          | 0/32 [00:00<?, ?it/s]\n",
      "100%|██████████| 32/32 [00:30<00:00,  1.06it/s]\n",
      "  0%|          | 0/32 [00:00<?, ?it/s]\n",
      "100%|██████████| 32/32 [00:50<00:00,  1.59s/it]\n",
      "  0%|          | 0/32 [00:00<?, ?it/s]\n",
      "100%|██████████| 32/32 [01:34<00:00,  2.97s/it]"
     ]
    },
    {
     "name": "stdout",
     "output_type": "stream",
     "text": [
      "Best Accuracy: 0.7254901960784313\n",
      "Best Parameters: {'learning_rate': 0.001, 'momentum': 0.9, 'weight_decay': 0.001, 'steps': 5}\n",
      "All Results: [{'learning_rate': 0.001, 'momentum': 0.9, 'weight_decay': 0.0001, 'steps': 3, 'accuracy': 0.7019607843137254}, {'learning_rate': 0.001, 'momentum': 0.9, 'weight_decay': 0.0001, 'steps': 5, 'accuracy': 0.7098039215686275}, {'learning_rate': 0.001, 'momentum': 0.9, 'weight_decay': 0.0001, 'steps': 10, 'accuracy': 0.7058823529411765}, {'learning_rate': 0.001, 'momentum': 0.9, 'weight_decay': 0.001, 'steps': 3, 'accuracy': 0.7235294117647059}, {'learning_rate': 0.001, 'momentum': 0.9, 'weight_decay': 0.001, 'steps': 5, 'accuracy': 0.7254901960784313}, {'learning_rate': 0.001, 'momentum': 0.9, 'weight_decay': 0.001, 'steps': 10, 'accuracy': 0.7156862745098039}, {'learning_rate': 0.001, 'momentum': 0.99, 'weight_decay': 0.0001, 'steps': 3, 'accuracy': 0.7098039215686275}, {'learning_rate': 0.001, 'momentum': 0.99, 'weight_decay': 0.0001, 'steps': 5, 'accuracy': 0.707843137254902}, {'learning_rate': 0.001, 'momentum': 0.99, 'weight_decay': 0.0001, 'steps': 10, 'accuracy': 0.696078431372549}, {'learning_rate': 0.001, 'momentum': 0.99, 'weight_decay': 0.001, 'steps': 3, 'accuracy': 0.703921568627451}, {'learning_rate': 0.001, 'momentum': 0.99, 'weight_decay': 0.001, 'steps': 5, 'accuracy': 0.7019607843137254}, {'learning_rate': 0.001, 'momentum': 0.99, 'weight_decay': 0.001, 'steps': 10, 'accuracy': 0.7}, {'learning_rate': 0.01, 'momentum': 0.9, 'weight_decay': 0.0001, 'steps': 3, 'accuracy': 0.7019607843137254}, {'learning_rate': 0.01, 'momentum': 0.9, 'weight_decay': 0.0001, 'steps': 5, 'accuracy': 0.6882352941176471}, {'learning_rate': 0.01, 'momentum': 0.9, 'weight_decay': 0.0001, 'steps': 10, 'accuracy': 0.6666666666666666}, {'learning_rate': 0.01, 'momentum': 0.9, 'weight_decay': 0.001, 'steps': 3, 'accuracy': 0.6823529411764706}, {'learning_rate': 0.01, 'momentum': 0.9, 'weight_decay': 0.001, 'steps': 5, 'accuracy': 0.6705882352941176}, {'learning_rate': 0.01, 'momentum': 0.9, 'weight_decay': 0.001, 'steps': 10, 'accuracy': 0.6803921568627451}, {'learning_rate': 0.01, 'momentum': 0.99, 'weight_decay': 0.0001, 'steps': 3, 'accuracy': 0.6745098039215687}, {'learning_rate': 0.01, 'momentum': 0.99, 'weight_decay': 0.0001, 'steps': 5, 'accuracy': 0.6666666666666666}, {'learning_rate': 0.01, 'momentum': 0.99, 'weight_decay': 0.0001, 'steps': 10, 'accuracy': 0.6568627450980392}, {'learning_rate': 0.01, 'momentum': 0.99, 'weight_decay': 0.001, 'steps': 3, 'accuracy': 0.6666666666666666}, {'learning_rate': 0.01, 'momentum': 0.99, 'weight_decay': 0.001, 'steps': 5, 'accuracy': 0.6588235294117647}, {'learning_rate': 0.01, 'momentum': 0.99, 'weight_decay': 0.001, 'steps': 10, 'accuracy': 0.6392156862745098}, {'learning_rate': 0.1, 'momentum': 0.9, 'weight_decay': 0.0001, 'steps': 3, 'accuracy': 0.5607843137254902}, {'learning_rate': 0.1, 'momentum': 0.9, 'weight_decay': 0.0001, 'steps': 5, 'accuracy': 0.03333333333333333}, {'learning_rate': 0.1, 'momentum': 0.9, 'weight_decay': 0.0001, 'steps': 10, 'accuracy': 0.0196078431372549}, {'learning_rate': 0.1, 'momentum': 0.9, 'weight_decay': 0.001, 'steps': 3, 'accuracy': 0.0196078431372549}, {'learning_rate': 0.1, 'momentum': 0.9, 'weight_decay': 0.001, 'steps': 5, 'accuracy': 0.0196078431372549}, {'learning_rate': 0.1, 'momentum': 0.9, 'weight_decay': 0.001, 'steps': 10, 'accuracy': 0.025490196078431372}, {'learning_rate': 0.1, 'momentum': 0.99, 'weight_decay': 0.0001, 'steps': 3, 'accuracy': 0.025490196078431372}, {'learning_rate': 0.1, 'momentum': 0.99, 'weight_decay': 0.0001, 'steps': 5, 'accuracy': 0.03529411764705882}, {'learning_rate': 0.1, 'momentum': 0.99, 'weight_decay': 0.0001, 'steps': 10, 'accuracy': 0.043137254901960784}, {'learning_rate': 0.1, 'momentum': 0.99, 'weight_decay': 0.001, 'steps': 3, 'accuracy': 0.043137254901960784}, {'learning_rate': 0.1, 'momentum': 0.99, 'weight_decay': 0.001, 'steps': 5, 'accuracy': 0.03725490196078431}, {'learning_rate': 0.1, 'momentum': 0.99, 'weight_decay': 0.001, 'steps': 10, 'accuracy': 0.0392156862745098}]\n"
     ]
    },
    {
     "name": "stderr",
     "output_type": "stream",
     "text": [
      "\n"
     ]
    }
   ],
   "source": [
    "from itertools import product\n",
    "\n",
    "# Define parameter grid\n",
    "learning_rates = [0.001, 0.01, 0.1]\n",
    "momentums = [0.9, 0.99]\n",
    "weight_decays = [0.0001, 0.001]\n",
    "steps_list = [3, 5, 10]\n",
    "\n",
    "best_accuracy = 0\n",
    "best_params = {}\n",
    "results = []  # List to store all accuracies and parameter combinations\n",
    "\n",
    "# Perform grid search\n",
    "for lr, momentum, wd, steps in product(learning_rates, momentums, weight_decays, steps_list):\n",
    "    optimizer = get_optimizer(tmp_model.clip.visual, learning_rate=lr, weight_decay=wd, momentum=momentum)\n",
    "    model = Tent(model=tmp_model, optimizer=optimizer, steps=steps, episodic=True)\n",
    "    \n",
    "    accuracy = clipartt_eval(model, val_base, base_classes, batch_size=16, device=device)\n",
    "    \n",
    "    # Save the result\n",
    "    results.append({\"learning_rate\": lr, \"momentum\": momentum, \"weight_decay\": wd, \"steps\": steps, \"accuracy\": accuracy})\n",
    "    \n",
    "    if accuracy > best_accuracy:\n",
    "        best_accuracy = accuracy\n",
    "        best_params = {\"learning_rate\": lr, \"momentum\": momentum, \"weight_decay\": wd, \"steps\": steps}\n",
    "\n",
    "print(\"Best Accuracy:\", best_accuracy)\n",
    "print(\"Best Parameters:\", best_params)\n",
    "print(\"All Results:\", results)"
   ]
  },
  {
   "cell_type": "code",
   "execution_count": 8,
   "id": "645fa90e",
   "metadata": {},
   "outputs": [],
   "source": [
    "import json\n",
    "\n",
    "with open(\"results.json\", \"w\") as f:\n",
    "    json.dump(results, f, indent=4)"
   ]
  }
 ],
 "metadata": {
  "kernelspec": {
   "display_name": ".venv",
   "language": "python",
   "name": "python3"
  },
  "language_info": {
   "codemirror_mode": {
    "name": "ipython",
    "version": 3
   },
   "file_extension": ".py",
   "mimetype": "text/x-python",
   "name": "python",
   "nbconvert_exporter": "python",
   "pygments_lexer": "ipython3",
   "version": "3.12.3"
  }
 },
 "nbformat": 4,
 "nbformat_minor": 5
}
